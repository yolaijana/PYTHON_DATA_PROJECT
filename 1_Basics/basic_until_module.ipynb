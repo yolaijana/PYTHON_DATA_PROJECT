{
  "nbformat": 4,
  "nbformat_minor": 0,
  "metadata": {
    "colab": {
      "provenance": []
    },
    "kernelspec": {
      "name": "python3",
      "display_name": "Python 3"
    },
    "language_info": {
      "name": "python"
    }
  },
  "cells": [
    {
      "cell_type": "code",
      "execution_count": null,
      "metadata": {
        "id": "Gdp4yk7IgPZD"
      },
      "outputs": [],
      "source": [
        "ye_ex = {\n",
        "    'luke': 3,\n",
        "    'Kelly': 6\n",
        "}\n"
      ]
    },
    {
      "cell_type": "code",
      "source": [
        "type(ye_ex)"
      ],
      "metadata": {
        "colab": {
          "base_uri": "https://localhost:8080/"
        },
        "id": "Mx9T30J7geRj",
        "outputId": "cd1978e6-e8f2-47fd-cdb3-d4e4b1bb7eae"
      },
      "execution_count": null,
      "outputs": [
        {
          "output_type": "execute_result",
          "data": {
            "text/plain": [
              "dict"
            ]
          },
          "metadata": {},
          "execution_count": 2
        }
      ]
    },
    {
      "cell_type": "code",
      "source": [
        "for per in ye_ex:\n",
        "    print (per)"
      ],
      "metadata": {
        "colab": {
          "base_uri": "https://localhost:8080/"
        },
        "id": "GKBg2RA0guWg",
        "outputId": "7038d373-ac16-4653-b3d9-40771b269bbb"
      },
      "execution_count": null,
      "outputs": [
        {
          "output_type": "stream",
          "name": "stdout",
          "text": [
            "luke\n",
            "Kelly\n"
          ]
        }
      ]
    },
    {
      "cell_type": "code",
      "source": [
        "for key, value in ye_ex.items():\n",
        "  if value > 5:\n",
        "    print(key, 'has', value, 'years experience')"
      ],
      "metadata": {
        "colab": {
          "base_uri": "https://localhost:8080/"
        },
        "id": "UKBZ8SGbg9fE",
        "outputId": "caad4af6-7229-43b6-88fd-8f35eab563f7"
      },
      "execution_count": null,
      "outputs": [
        {
          "output_type": "stream",
          "name": "stdout",
          "text": [
            "Kelly has 6 years experience\n"
          ]
        }
      ]
    },
    {
      "cell_type": "code",
      "source": [
        "ye_ex = {\n",
        "    'luke': 3,\n",
        "    'Kelly': 6,\n",
        "    'Alex': 4,\n",
        "    'Marry': 7\n",
        "}\n"
      ],
      "metadata": {
        "id": "7mK30V71hys1"
      },
      "execution_count": null,
      "outputs": []
    },
    {
      "cell_type": "code",
      "source": [
        "\n",
        "years = 0\n",
        "index = 0\n",
        "\n",
        "years_list = list(ye_ex.items())\n",
        "\n",
        "while years < 5 and index < len(years_list):\n",
        "    key, years = years_list[index]\n",
        "    if years >= 5:\n",
        "        print(key, years)\n",
        "    index += 1"
      ],
      "metadata": {
        "colab": {
          "base_uri": "https://localhost:8080/"
        },
        "id": "jmZ_s4Rgl35a",
        "outputId": "edeaf1af-8d4f-49cd-9c27-93b0dbc1905b"
      },
      "execution_count": null,
      "outputs": [
        {
          "output_type": "stream",
          "name": "stdout",
          "text": [
            "Kelly 6\n"
          ]
        }
      ]
    },
    {
      "cell_type": "code",
      "source": [
        "#  analyst_list = []\n",
        "\n",
        "#  for job in job_list:\n",
        "#    if \"Data Analyst\" in job:\n",
        "#      analyst_list.append (job)\n",
        "\n",
        "\n",
        "#   analyst_list = [job for job in job_list if \"Data Analyst\" in job]\n",
        "\n",
        "#   print (\"Original List is\", len(job_list), \"jobs\")\n",
        "#   print (\"New List is\", len(analyst_list), \"jobs\")\n",
        "\n"
      ],
      "metadata": {
        "id": "DYm7IDAUoWa8"
      },
      "execution_count": null,
      "outputs": []
    },
    {
      "cell_type": "code",
      "source": [
        "my_skills =['Python', 'SQL', 'Excel']"
      ],
      "metadata": {
        "id": "w6ucOHO7s2z6"
      },
      "execution_count": null,
      "outputs": []
    },
    {
      "cell_type": "code",
      "source": [
        "my_skills =['Python', 'SQL', 'Excel']\n",
        "\n",
        "job_roles = [\n",
        "    {'role': 'Data Analyst', 'skills': ['Python', 'SQL', 'Excel']},\n",
        "    {'role': 'Data Scientist', 'skills': ['Python', 'R', 'Machine Learning', 'Deep Learning']},\n",
        "    {'role': 'Machine Learning Engineer', 'skills': ['Python', 'TensorFlow', 'PyTorch', 'Scikit-Learn']},\n",
        "    {'role': 'Data Engineer', 'skills': ['Python', 'Apache Spark', 'Hadoop', 'SQL']},\n",
        "    {'role': 'Business Intelligence Analyst', 'skills': ['Python', 'SQL', 'Tableau', 'Power BI', 'Excel']},\n",
        "    {'role': 'Quantitative Analyst', 'skills': ['R', 'Python', 'MATLAB', 'Statistics']},\n",
        "    {'role': 'Operations Analyst', 'skills': ['Python', 'SQL', 'Data Visualization', 'Process Improvement']},\n",
        "    {'role': 'Database Administrator', 'skills': ['SQL', 'Oracle', 'MySQL', 'Database Management']},\n",
        "    {'role': 'AI Engineer', 'skills': ['Python', 'TensorFlow', 'PyTorch', 'Computer Vision']},\n",
        "    {'role': 'Statistician', 'skills': ['R', 'SAS', 'Python', 'Statistical Modeling']}\n",
        "]\n",
        "\n",
        "qualified_roles = []\n",
        "\n",
        "for job in job_roles:\n",
        "    qualified = True\n",
        "\n",
        "    for skill in my_skills:\n",
        "        if skill not in job['skills']:\n",
        "            qualified = False\n",
        "            break\n",
        "    if qualified:\n",
        "      qualified_roles.append(job['role'])\n",
        "\n",
        "qualified_roles"
      ],
      "metadata": {
        "colab": {
          "base_uri": "https://localhost:8080/"
        },
        "id": "cEvmNKQcs05z",
        "outputId": "ce7240e2-f5cb-4dd4-f86a-373d17f27aaa"
      },
      "execution_count": null,
      "outputs": [
        {
          "output_type": "execute_result",
          "data": {
            "text/plain": [
              "['Data Analyst', 'Business Intelligence Analyst']"
            ]
          },
          "metadata": {},
          "execution_count": 9
        }
      ]
    },
    {
      "cell_type": "code",
      "source": [],
      "metadata": {
        "id": "rWePJkWIt6ed"
      },
      "execution_count": null,
      "outputs": []
    },
    {
      "cell_type": "code",
      "source": [
        "# Determine which jobs you're qualified for\n",
        "qualified_roles = []\n",
        "\n",
        "for job in job_roles:\n",
        "    # Check if all required skills are in my_skills\n",
        "    if all(skill in job['skills'] for skill in my_skills):\n",
        "      # Add the job role to the qualified_roles list\n",
        "      qualified_roles.append(job['role'])\n",
        "\n",
        "qualified_roles\n"
      ],
      "metadata": {
        "colab": {
          "base_uri": "https://localhost:8080/"
        },
        "id": "1JnQdaDMtbvP",
        "outputId": "c13ea0cc-f854-4641-9aea-7f39ebd973b8"
      },
      "execution_count": null,
      "outputs": [
        {
          "output_type": "execute_result",
          "data": {
            "text/plain": [
              "['Data Analyst', 'Business Intelligence Analyst']"
            ]
          },
          "metadata": {},
          "execution_count": 10
        }
      ]
    },
    {
      "cell_type": "code",
      "source": [
        "for job in job_roles:\n",
        "  qualified = True\n",
        "\n",
        "  for skill in my_skills:\n",
        "    if skill not in job['skills']:\n",
        "      qualified = False\n"
      ],
      "metadata": {
        "id": "vx1prqMsCTxq"
      },
      "execution_count": null,
      "outputs": []
    },
    {
      "cell_type": "code",
      "source": [
        "salary_list =[100000, 200000, 150000, 120000, 80000, 750000]\n",
        "\n",
        "# Calaculate total_salary of base_salary *(1 + bonus_rate)\n",
        "def calculate_salary (base_salary, bonus_rate=.1):\n",
        "\n",
        " return base_salary * (1 + bonus_rate)\n",
        "\n",
        "total_salary_list = [calculate_salary(salary) for salary in salary_list]\n",
        "\n",
        "total_salary_list"
      ],
      "metadata": {
        "colab": {
          "base_uri": "https://localhost:8080/"
        },
        "id": "-XFlVmJTyhjb",
        "outputId": "6440f5b0-f4b9-40c3-983c-99ad9184fa9d"
      },
      "execution_count": null,
      "outputs": [
        {
          "output_type": "execute_result",
          "data": {
            "text/plain": [
              "[110000.00000000001,\n",
              " 220000.00000000003,\n",
              " 165000.0,\n",
              " 132000.0,\n",
              " 88000.0,\n",
              " 825000.0000000001]"
            ]
          },
          "metadata": {},
          "execution_count": 12
        }
      ]
    },
    {
      "cell_type": "code",
      "source": [
        "salary_list =[100000, 200000, 150000, 120000, 80000, 750000]\n",
        "\n",
        "# Calaculate total_salary of base_salary *(1 + bonus_rate)\n",
        "# def calculate_salary (base_salary, bonus_rate=.1):\n",
        "\n",
        " # return base_salary * (1 + bonus_rate)\n",
        " # Use lambda instead\n",
        "\n",
        "total_salary_list = [(lambda x: x * 1.1)(salary) for salary in salary_list]\n",
        "\n",
        "total_salary_list"
      ],
      "metadata": {
        "colab": {
          "base_uri": "https://localhost:8080/"
        },
        "id": "gXQbUq2P-eCx",
        "outputId": "fb65087c-9991-44c1-87e2-083012616b21"
      },
      "execution_count": null,
      "outputs": [
        {
          "output_type": "execute_result",
          "data": {
            "text/plain": [
              "[110000.00000000001,\n",
              " 220000.00000000003,\n",
              " 165000.0,\n",
              " 132000.0,\n",
              " 88000.0,\n",
              " 825000.0000000001]"
            ]
          },
          "metadata": {},
          "execution_count": 13
        }
      ]
    },
    {
      "cell_type": "code",
      "source": [
        "jobs_data = [\n",
        "    {'job_title': 'Data Analyst', 'job_skills': ['SQL', 'Python', 'Excel'], 'remote': True},\n",
        "    {'job_title': 'Data Scientist', 'job_skills': ['Python', 'R', 'Machine Learning'], 'remote': False},\n",
        "    {'job_title': 'Machine Learning Engineer', 'job_skills': ['Python', 'TensorFlow', 'PyTorch'], 'remote': True},\n",
        "    {'job_title': 'Data Engineer', 'job_skills': ['Python', 'Apache Spark', 'Hadoop'], 'remote': False},\n",
        "    {'job_title': 'Business Intelligence Analyst', 'job_skills': ['Python', 'SQL', 'Tableau'], 'remote': True}\n",
        "]\n",
        "\n",
        "list(filter(lambda job: job['remote'] and 'Python' in job['job_skills'], jobs_data) )"
      ],
      "metadata": {
        "colab": {
          "base_uri": "https://localhost:8080/"
        },
        "id": "godN8CnDO-u-",
        "outputId": "7c5c094b-f24c-4823-9ad1-229b9bc3fc3e"
      },
      "execution_count": null,
      "outputs": [
        {
          "output_type": "execute_result",
          "data": {
            "text/plain": [
              "[{'job_title': 'Data Analyst',\n",
              "  'job_skills': ['SQL', 'Python', 'Excel'],\n",
              "  'remote': True},\n",
              " {'job_title': 'Machine Learning Engineer',\n",
              "  'job_skills': ['Python', 'TensorFlow', 'PyTorch'],\n",
              "  'remote': True},\n",
              " {'job_title': 'Business Intelligence Analyst',\n",
              "  'job_skills': ['Python', 'SQL', 'Tableau'],\n",
              "  'remote': True}]"
            ]
          },
          "metadata": {},
          "execution_count": 14
        }
      ]
    },
    {
      "cell_type": "markdown",
      "source": [
        "Data cleaninig\n"
      ],
      "metadata": {
        "id": "yX41064otd2Z"
      }
    },
    {
      "cell_type": "code",
      "source": [
        "data_science_job = [\n",
        "    {'job_title': 'Data Analyst', 'job_skills': \"['SQL', 'Python', 'Excel']\", 'job_date': '2023-7-1'},\n",
        "    {'job_title': 'Data Scientist', 'job_skills': \"['Python', 'R', 'Machine Learning']\", 'job_date': '2023-8-15'},\n",
        "    {'job_title': 'Machine Learning Engineer', 'job_skills': \"['Python', 'TensorFlow', 'PyTorch']\", 'job_date': '2023-9-10'},\n",
        "    {'job_title': 'Data Engineer', 'job_skills': \"['Python', 'Apache Spark', 'Hadoop']\", 'job_date': '2023-10-5'},\n",
        "    {'job_title': 'Business Intelligence Analyst', 'job_skills': \"['Python', 'SQL', 'Tableau']\", 'job_date': '2023-11-20'}\n",
        "]\n"
      ],
      "metadata": {
        "id": "2JPYbXxIWEMS"
      },
      "execution_count": null,
      "outputs": []
    },
    {
      "cell_type": "code",
      "source": [
        "from datetime import datetime\n",
        "import ast"
      ],
      "metadata": {
        "id": "ZmBsaHn7eInh"
      },
      "execution_count": null,
      "outputs": []
    },
    {
      "cell_type": "code",
      "source": [
        "datetime.now()"
      ],
      "metadata": {
        "colab": {
          "base_uri": "https://localhost:8080/"
        },
        "id": "SNLb4psoln0S",
        "outputId": "d4f9a8d8-2f59-4c3b-fc91-81f2d0d5ac40"
      },
      "execution_count": null,
      "outputs": [
        {
          "output_type": "execute_result",
          "data": {
            "text/plain": [
              "datetime.datetime(2024, 7, 19, 15, 50, 57, 541151)"
            ]
          },
          "metadata": {},
          "execution_count": 17
        }
      ]
    },
    {
      "cell_type": "code",
      "source": [
        "test_date = data_science_job[0]['job_date']\n"
      ],
      "metadata": {
        "id": "XffGJJ7Wlv9q"
      },
      "execution_count": null,
      "outputs": []
    },
    {
      "cell_type": "code",
      "source": [
        "print(datetime.strptime(test_date, '%Y-%m-%d'))"
      ],
      "metadata": {
        "colab": {
          "base_uri": "https://localhost:8080/"
        },
        "id": "jiljj1JTmAge",
        "outputId": "ca47d2fc-ffa8-4971-d496-5d79bed8ba80"
      },
      "execution_count": null,
      "outputs": [
        {
          "output_type": "stream",
          "name": "stdout",
          "text": [
            "2023-07-01 00:00:00\n"
          ]
        }
      ]
    },
    {
      "cell_type": "code",
      "source": [
        "for job in data_science_job:\n",
        "  job['job_date'] = datetime.strptime(job['job_date'],'%Y-%m-%d')\n",
        "  job['job_skills'] = ast.literal_eval(job['job_skills'])"
      ],
      "metadata": {
        "id": "sQUWfxi4mSRF"
      },
      "execution_count": null,
      "outputs": []
    },
    {
      "cell_type": "code",
      "source": [
        "data_science_job\n"
      ],
      "metadata": {
        "colab": {
          "base_uri": "https://localhost:8080/"
        },
        "id": "M53ujklWnoeF",
        "outputId": "8a04b244-7655-4465-8991-b86da3cfb590"
      },
      "execution_count": null,
      "outputs": [
        {
          "output_type": "execute_result",
          "data": {
            "text/plain": [
              "[{'job_title': 'Data Analyst',\n",
              "  'job_skills': ['SQL', 'Python', 'Excel'],\n",
              "  'job_date': datetime.datetime(2023, 7, 1, 0, 0)},\n",
              " {'job_title': 'Data Scientist',\n",
              "  'job_skills': ['Python', 'R', 'Machine Learning'],\n",
              "  'job_date': datetime.datetime(2023, 8, 15, 0, 0)},\n",
              " {'job_title': 'Machine Learning Engineer',\n",
              "  'job_skills': ['Python', 'TensorFlow', 'PyTorch'],\n",
              "  'job_date': datetime.datetime(2023, 9, 10, 0, 0)},\n",
              " {'job_title': 'Data Engineer',\n",
              "  'job_skills': ['Python', 'Apache Spark', 'Hadoop'],\n",
              "  'job_date': datetime.datetime(2023, 10, 5, 0, 0)},\n",
              " {'job_title': 'Business Intelligence Analyst',\n",
              "  'job_skills': ['Python', 'SQL', 'Tableau'],\n",
              "  'job_date': datetime.datetime(2023, 11, 20, 0, 0)}]"
            ]
          },
          "metadata": {},
          "execution_count": 21
        }
      ]
    },
    {
      "cell_type": "code",
      "source": [
        "from google.colab import drive\n",
        "drive.mount('/content/drive')"
      ],
      "metadata": {
        "id": "2147Is5tuP6A"
      },
      "execution_count": null,
      "outputs": []
    },
    {
      "cell_type": "code",
      "source": [],
      "metadata": {
        "id": "1fzqRk6np2xe"
      },
      "execution_count": null,
      "outputs": []
    }
  ]
}